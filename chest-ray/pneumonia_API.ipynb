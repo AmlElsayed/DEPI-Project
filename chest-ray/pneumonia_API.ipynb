{
 "cells": [
  {
   "cell_type": "code",
   "execution_count": 24,
   "metadata": {},
   "outputs": [
    {
     "name": "stdout",
     "output_type": "stream",
     "text": [
      "1.1.2\n"
     ]
    }
   ],
   "source": [
    "#flask version\n",
    "import flask\n",
    "print(flask.__version__)"
   ]
  },
  {
   "cell_type": "code",
   "execution_count": 25,
   "metadata": {},
   "outputs": [],
   "source": [
    "import tensorflow as tf\n",
    "import pickle\n",
    "model = pickle.load(open('model.pkl','rb'))\n",
    "from flask import Flask, request, jsonify, render_template"
   ]
  },
  {
   "cell_type": "code",
   "execution_count": 26,
   "metadata": {},
   "outputs": [],
   "source": [
    "#read_image\n",
    "IMG_DIMEN = 224\n",
    "N_COLORS = 3"
   ]
  },
  {
   "cell_type": "code",
   "execution_count": 27,
   "metadata": {},
   "outputs": [],
   "source": [
    "import cv2\n",
    "import numpy as np\n",
    "\n",
    "def read_image(img_path):\n",
    "    img = cv2.imread(img_path)\n",
    "    img = cv2.resize(img, dsize=(IMG_DIMEN, IMG_DIMEN))\n",
    "    img = cv2.cvtColor(img, cv2.COLOR_BGR2RGB)\n",
    "    img = img.astype('float32')/255.0\n",
    "    return img"
   ]
  },
  {
   "cell_type": "code",
   "execution_count": 28,
   "metadata": {},
   "outputs": [],
   "source": [
    "#visualizing an image\n",
    "import matplotlib.pyplot as plt\n",
    "%matplotlib inline\n",
    "\n",
    "def imshow(img):\n",
    "    plt.figure(figsize=(6, 6))\n",
    "    if N_COLORS == 3:\n",
    "        plt.imshow(img)\n",
    "    elif N_COLORS == 1:\n",
    "         plt.imshow(img, cmap='gray')\n",
    "    plt.show()"
   ]
  },
  {
   "cell_type": "code",
   "execution_count": 29,
   "metadata": {},
   "outputs": [],
   "source": [
    "#show_image\n",
    "#img =read_image('D:/xampp/htdocs/xampp/DEPI-Project/chest-ray/chest_xray/test/PNEUMONIA/person1679_virus_2896.jpeg')\n",
    "#imshow(img)"
   ]
  },
  {
   "cell_type": "code",
   "execution_count": 36,
   "metadata": {},
   "outputs": [],
   "source": [
    "from tensorflow.keras.applications.vgg16 import VGG16\n",
    "from tensorflow.keras.layers import Flatten,Dropout,Dense\n",
    "from tensorflow.keras.models import Model\n",
    "from tensorflow.keras.optimizers import Adam\n",
    "base_model=VGG16(weights='imagenet',include_top=False,input_shape=(224,224,3))\n",
    "\n",
    "for layer in base_model.layers:\n",
    "  layer.trainable=False\n",
    "\n",
    "x=base_model.output\n",
    "x=Flatten()(x)\n",
    "x=Dense(256,activation='relu')(x)\n",
    "x=Dropout(0.5)(x)\n",
    "output_vgg=Dense(1,activation='sigmoid')(x)\n",
    "model_vgg=Model(inputs=base_model.input,outputs=output_vgg)\n",
    "# compile model\n",
    "model_vgg.compile(optimizer=Adam(learning_rate=0.00001),loss='binary_crossentropy',metrics=['accuracy'])"
   ]
  },
  {
   "cell_type": "code",
   "execution_count": 31,
   "metadata": {},
   "outputs": [],
   "source": [
    "#load saved_model\n",
    "from tensorflow.keras.models import load_model"
   ]
  },
  {
   "cell_type": "code",
   "execution_count": 32,
   "metadata": {},
   "outputs": [],
   "source": [
    "#model_vgg.load_weights('D:/Xampp/htdocs/xampp/DEPI-Project/chest-ray/Saved-model/pneumonia_detection.h5')"
   ]
  },
  {
   "cell_type": "code",
   "execution_count": 33,
   "metadata": {},
   "outputs": [],
   "source": [
    "#classify_image\n",
    "def classify_image(img_path):\n",
    "    img = read_image(img_path)\n",
    "    return float(model_vgg.predict(np.array([img])).squeeze())"
   ]
  },
  {
   "cell_type": "code",
   "execution_count": 34,
   "metadata": {},
   "outputs": [],
   "source": [
    "#classify_image('D:/xampp/htdocs/xampp/DEPI-Project/chest-ray/chest_xray/test/PNEUMONIA/person1679_virus_2896.jpeg')"
   ]
  },
  {
   "cell_type": "code",
   "execution_count": 40,
   "metadata": {},
   "outputs": [
    {
     "name": "stdout",
     "output_type": "stream",
     "text": [
      " * Serving Flask app \"__main__\" (lazy loading)\n",
      " * Environment: production\n",
      "   WARNING: This is a development server. Do not use it in a production deployment.\n",
      "   Use a production WSGI server instead.\n",
      " * Debug mode: on\n"
     ]
    },
    {
     "name": "stderr",
     "output_type": "stream",
     "text": [
      " * Running on http://127.0.0.1:8000/ (Press CTRL+C to quit)\n"
     ]
    }
   ],
   "source": [
    "#flask_API\n",
    "from flask import Flask\n",
    "from flask import request\n",
    "\n",
    "app = Flask(__name__)\n",
    "\n",
    "@app.route('/classify', methods = ['POST'])\n",
    "def classify_handler():\n",
    "    img_path = request.form['path']\n",
    "    y_pred = classify_image(img_path)\n",
    "    class_name = 'PNEUMONIA' if y_pred >= 0.5 else 'NORMAL'\n",
    "    prob_PNEUMONIA = y_pred\n",
    "    prob_NORMAL = 1 - y_pred\n",
    "    print('img_path:', img_path)\n",
    "    print('y_pred:', y_pred)\n",
    "    print('class_name:', class_name)\n",
    "    return {\n",
    "        'prob_NORMAL': prob_NORMAL, \n",
    "        'prob_PNEUMONIA': prob_PNEUMONIA, \n",
    "        'class_name': class_name\n",
    "    }\n",
    "@app.route('/predict', methods=['POST'])\n",
    "def predict():\n",
    "    float_features = [float(x) for x in request.form.values()]\n",
    "    final_features = [np.array(float_features)]\n",
    "    prediction = model.predict(final_features)\n",
    "   \n",
    "    output = round(prediction[0])\n",
    "    if output == 0:\n",
    "        message = 'The person does not have cancer'\n",
    "        print(message)\n",
    "    else:\n",
    "        message = 'The person has cancer'\n",
    "        print(message)\n",
    "    #return render_template('index.html',prediction_text=\"The Perdict is {}\".format(output))\n",
    "    return render_template('cancer_Result.html',prediction_text=message)\n",
    "\n",
    "app.run(port=8000,debug=True,use_reloader=False)"
   ]
  },
  {
   "cell_type": "code",
   "execution_count": null,
   "metadata": {},
   "outputs": [],
   "source": []
  }
 ],
 "metadata": {
  "kernelspec": {
   "display_name": "base",
   "language": "python",
   "name": "python3"
  },
  "language_info": {
   "codemirror_mode": {
    "name": "ipython",
    "version": 3
   },
   "file_extension": ".py",
   "mimetype": "text/x-python",
   "name": "python",
   "nbconvert_exporter": "python",
   "pygments_lexer": "ipython3",
   "version": "3.8.8"
  }
 },
 "nbformat": 4,
 "nbformat_minor": 2
}
